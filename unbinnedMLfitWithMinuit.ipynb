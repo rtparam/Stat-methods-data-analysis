{
 "cells": [
  {
   "cell_type": "code",
   "execution_count": 1,
   "metadata": {},
   "outputs": [
    {
     "data": {
      "text/plain": [
       "<function matplotlib.pyplot.show(close=None, block=None)>"
      ]
     },
     "execution_count": 1,
     "metadata": {},
     "output_type": "execute_result"
    },
    {
     "data": {
      "image/png": "[encoded data removed]",
      "text/plain": [
       "<Figure size 432x288 with 1 Axes>"
      ]
     },
     "metadata": {
      "needs_background": "light"
     },
     "output_type": "display_data"
    }
   ],
   "source": [
    "import numpy as np\n",
    "from random import random\n",
    "import matplotlib.pyplot as plt\n",
    "import scipy.integrate as integrate\n",
    "from math import exp\n",
    "from iminuit import Minuit\n",
    "\n",
    "xi = np.array([0.01,0.03,0.07,0.24,0.41,0.413,0.46,0.47,0.505,0.507,0.534,0.55,0.58,0.63,0.65,\n",
    "0.701,0.723,0.731,0.737,0.743,0.751,0.76,0.763,0.773,0.775,0.781,0.787,0.789,0.792,\n",
    "    0.81,0.821,0.829,0.842,0.853,0.859,0.862,0.871,0.878,0.883,0.892,0.894,\n",
    "    0.901,0.903,0.914,0.917,0.9214,0.932,0.939,0.944,0.9542,0.956,0.958,0.966,0.971,0.981,0.982,0.987,0.991,0.993,0.998])\n",
    "yi_dummy = np.zeros_like(xi)\n",
    "fig,ax = plt.subplots()\n",
    "plt.scatter(xi,yi_dummy)\n",
    "plt.xlabel('unbinned x data')\n",
    "plt.ylabel('dummy dimension')\n",
    "plt.show"
   ]
  },
  {
   "cell_type": "code",
   "execution_count": 12,
   "metadata": {},
   "outputs": [
    {
     "data": {
      "image/png": "[encoded data removed]",
      "text/plain": [
       "<Figure size 432x288 with 1 Axes>"
      ]
     },
     "metadata": {
      "needs_background": "light"
     },
     "output_type": "display_data"
    }
   ],
   "source": [
    "#One parameter probability distribution:\n",
    "def rho1(x): return 1  # constant\n",
    "def rho2(x): return 3*x*x\n",
    "def rho(x,theta): \n",
    "    return theta*rho1(x)+(1-theta)*rho2(x)\n",
    "assert(abs(integrate.quad(rho1,0,1)[0]-1.)<1.e-5)\n",
    "assert(abs(integrate.quad(rho2,0,1)[0]-1.)<1.e-5)\n",
    "\n",
    "def negative_logL_unbinnedML(theta):\n",
    "    return -np.sum(np.log(rho(xi,theta)))   \n",
    "fig = plt.figure()\n",
    "\n",
    "ax = fig.add_subplot(1, 1, 1)\n",
    "plt.margins(x=0) #disable plotting margins on x axis\n",
    "thetaplot = np.linspace(0.,1.,500)\n",
    "logLplot = [ negative_logL_unbinnedML(theta) for theta in thetaplot]\n",
    "\n",
    "plt.plot(thetaplot,logLplot, 'b')\n",
    "plt.xlabel('theta')\n",
    "plt.ylabel('-Log L')\n",
    "plt.show\n",
    "fig.savefig(\"log_l_plot_poisson.pdf\")\n",
    "#thetamax,sig1,sig2 = logL_explorer(negative_logL_unbinnedML,maximum=False,xmin=0,xmax=1)"
   ]
  },
  {
   "cell_type": "code",
   "execution_count": 13,
   "metadata": {},
   "outputs": [
    {
     "data": {
      "text/html": [
       "<table>\n",
       "    <tr>\n",
       "        <th colspan=\"5\" style=\"text-align:center\" title=\"Minimizer\"> Migrad </th>\n",
       "    </tr>\n",
       "    <tr>\n",
       "        <td colspan=\"2\" style=\"text-align:left\" title=\"Minimum value of function\"> FCN = -23.4 </td>\n",
       "        <td colspan=\"3\" style=\"text-align:center\" title=\"Total number of function and (optional) gradient evaluations\"> Nfcn = 52 </td>\n",
       "    </tr>\n",
       "    <tr>\n",
       "        <td colspan=\"2\" style=\"text-align:left\" title=\"Estimated distance to minimum and goal\"> EDM = 1.52e-06 (Goal: 0.0001) </td>\n",
       "        <td colspan=\"3\" style=\"text-align:center\" title=\"Total run time of algorithms\">  </td>\n",
       "    </tr>\n",
       "    <tr>\n",
       "        <td colspan=\"2\" style=\"text-align:center;background-color:#92CCA6;color:black\"> Valid Minimum </td>\n",
       "        <td colspan=\"3\" style=\"text-align:center;background-color:#92CCA6;color:black\"> No Parameters at limit </td>\n",
       "    </tr>\n",
       "    <tr>\n",
       "        <td colspan=\"2\" style=\"text-align:center;background-color:#92CCA6;color:black\"> Below EDM threshold (goal x 10) </td>\n",
       "        <td colspan=\"3\" style=\"text-align:center;background-color:#92CCA6;color:black\"> Below call limit </td>\n",
       "    </tr>\n",
       "    <tr>\n",
       "        <td style=\"text-align:center;background-color:#92CCA6;color:black\"> Covariance </td>\n",
       "        <td style=\"text-align:center;background-color:#92CCA6;color:black\"> Hesse ok </td>\n",
       "        <td style=\"text-align:center;background-color:#92CCA6;color:black\" title=\"Is covariance matrix accurate?\"> Accurate </td>\n",
       "        <td style=\"text-align:center;background-color:#92CCA6;color:black\" title=\"Is covariance matrix positive definite?\"> Pos. def. </td>\n",
       "        <td style=\"text-align:center;background-color:#92CCA6;color:black\" title=\"Was positive definiteness enforced by Minuit?\"> Not forced </td>\n",
       "    </tr>\n",
       "</table><table>\n",
       "    <tr>\n",
       "        <td></td>\n",
       "        <th title=\"Variable name\"> Name </th>\n",
       "        <th title=\"Value of parameter\"> Value </th>\n",
       "        <th title=\"Hesse error\"> Hesse Error </th>\n",
       "        <th title=\"Minos lower error\"> Minos Error- </th>\n",
       "        <th title=\"Minos upper error\"> Minos Error+ </th>\n",
       "        <th title=\"Lower limit of the parameter\"> Limit- </th>\n",
       "        <th title=\"Upper limit of the parameter\"> Limit+ </th>\n",
       "        <th title=\"Is the parameter fixed in the fit\"> Fixed </th>\n",
       "    </tr>\n",
       "    <tr>\n",
       "        <th> 0 </th>\n",
       "        <td> theta </td>\n",
       "        <td> 0.14 </td>\n",
       "        <td> 0.08 </td>\n",
       "        <td> -0.07 </td>\n",
       "        <td> 0.09 </td>\n",
       "        <td>  </td>\n",
       "        <td>  </td>\n",
       "        <td>  </td>\n",
       "    </tr>\n",
       "</table><table>\n",
       "    <tr>\n",
       "        <td></td>\n",
       "        <th colspan=\"2\" style=\"text-align:center\" title=\"Parameter name\"> theta </th>\n",
       "    </tr>\n",
       "    <tr>\n",
       "        <th title=\"Lower and upper minos error of the parameter\"> Error </th>\n",
       "        <td> -0.07 </td>\n",
       "        <td> 0.09 </td>\n",
       "    </tr>\n",
       "    <tr>\n",
       "        <th title=\"Validity of lower/upper minos error\"> Valid </th>\n",
       "        <td style=\"background-color:#92CCA6;color:black\"> True </td>\n",
       "        <td style=\"background-color:#92CCA6;color:black\"> True </td>\n",
       "    </tr>\n",
       "    <tr>\n",
       "        <th title=\"Did scan hit limit of any parameter?\"> At Limit </th>\n",
       "        <td style=\"background-color:#92CCA6;color:black\"> False </td>\n",
       "        <td style=\"background-color:#92CCA6;color:black\"> False </td>\n",
       "    </tr>\n",
       "    <tr>\n",
       "        <th title=\"Did scan hit function call limit?\"> Max FCN </th>\n",
       "        <td style=\"background-color:#92CCA6;color:black\"> False </td>\n",
       "        <td style=\"background-color:#92CCA6;color:black\"> False </td>\n",
       "    </tr>\n",
       "    <tr>\n",
       "        <th title=\"New minimum found when doing scan?\"> New Min </th>\n",
       "        <td style=\"background-color:#92CCA6;color:black\"> False </td>\n",
       "        <td style=\"background-color:#92CCA6;color:black\"> False </td>\n",
       "    </tr>\n",
       "</table><table>\n",
       "    <tr>\n",
       "        <td></td>\n",
       "        <th> theta </th>\n",
       "    </tr>\n",
       "    <tr>\n",
       "        <th> theta </th>\n",
       "        <td> 0.006 </td>\n",
       "    </tr>\n",
       "</table>"
      ],
      "text/plain": [
       "┌─────────────────────────────────────────────────────────────────────────┐\n",
       "│                                Migrad                                   │\n",
       "├──────────────────────────────────┬──────────────────────────────────────┤\n",
       "│ FCN = -23.4                      │              Nfcn = 52               │\n",
       "│ EDM = 1.52e-06 (Goal: 0.0001)    │                                      │\n",
       "├──────────────────────────────────┼──────────────────────────────────────┤\n",
       "│          Valid Minimum           │        No Parameters at limit        │\n",
       "├──────────────────────────────────┼──────────────────────────────────────┤\n",
       "│ Below EDM threshold (goal x 10)  │           Below call limit           │\n",
       "├───────────────┬──────────────────┼───────────┬─────────────┬────────────┤\n",
       "│  Covariance   │     Hesse ok     │ Accurate  │  Pos. def.  │ Not forced │\n",
       "└───────────────┴──────────────────┴───────────┴─────────────┴────────────┘\n",
       "┌───┬───────┬───────────┬───────────┬────────────┬────────────┬─────────┬─────────┬───────┐\n",
       "│   │ Name  │   Value   │ Hesse Err │ Minos Err- │ Minos Err+ │ Limit-  │ Limit+  │ Fixed │\n",
       "├───┼───────┼───────────┼───────────┼────────────┼────────────┼─────────┼─────────┼───────┤\n",
       "│ 0 │ theta │   0.14    │   0.08    │   -0.07    │    0.09    │         │         │       │\n",
       "└───┴───────┴───────────┴───────────┴────────────┴────────────┴─────────┴─────────┴───────┘\n",
       "┌──────────┬───────────────────────┐\n",
       "│          │         theta         │\n",
       "├──────────┼───────────┬───────────┤\n",
       "│  Error   │   -0.07   │   0.09    │\n",
       "│  Valid   │   True    │   True    │\n",
       "│ At Limit │   False   │   False   │\n",
       "│ Max FCN  │   False   │   False   │\n",
       "│ New Min  │   False   │   False   │\n",
       "└──────────┴───────────┴───────────┘\n",
       "┌───────┬───────┐\n",
       "│       │ theta │\n",
       "├───────┼───────┤\n",
       "│ theta │ 0.006 │\n",
       "└───────┴───────┘"
      ]
     },
     "execution_count": 13,
     "metadata": {},
     "output_type": "execute_result"
    }
   ],
   "source": [
    "m = Minuit(negative_logL_unbinnedML, theta=0.0001)\n",
    "m.errordef=1/2\n",
    "m.migrad()  # finds minimum of least_squares function\n",
    "m.hesse()   # accurately computes uncertainties in Hesse approximation\n",
    "\n",
    "m.minos()"
   ]
  },
  {
   "cell_type": "code",
   "execution_count": 14,
   "metadata": {},
   "outputs": [
    {
     "name": "stdout",
     "output_type": "stream",
     "text": [
      "best estimate for theta= <ValueView theta=0.14079495888246565>\n",
      "now we compare binned data to unbinned ML fit results\n",
      "binned data, not used for fit [ 3  0  1  0  4  5  2 14 12 19]\n"
     ]
    },
    {
     "data": {
      "text/plain": [
       "<function matplotlib.pyplot.show(close=None, block=None)>"
      ]
     },
     "execution_count": 14,
     "metadata": {},
     "output_type": "execute_result"
    },
    {
     "data": {
      "image/png": "[encoded data removed]",
      "text/plain": [
       "<Figure size 432x288 with 1 Axes>"
      ]
     },
     "metadata": {
      "needs_background": "light"
     },
     "output_type": "display_data"
    }
   ],
   "source": [
    "print(\"best estimate for theta=\",m.values)\n",
    "thetamax = m.values[0]\n",
    "print(\"now we compare binned data to unbinned ML fit results\")\n",
    "yi_binned = np.histogram(xi,bins=10,range=(0,1))[0]\n",
    "xi_binned = np.array([0.05,0.15,0.25,0.35,0.45,0.55,0.65,0.75,0.85,0.95])\n",
    "print(\"binned data, not used for fit\",yi_binned)\n",
    "fig, ax = plt.subplots() # get a handle on figure and its axis\n",
    "#plt.margins(x=0) #disable plotting margins\n",
    "plt.errorbar(xi_binned,yi_binned,np.sqrt(yi_binned), fmt='o', color='blue')\n",
    "plt.xlabel('x')\n",
    "plt.ylabel('y(x)')\n",
    "xplot = np.linspace(0,1,500)\n",
    "S = len(xi)\n",
    "binwid = 0.1\n",
    "fitplot = np.array([S*binwid*rho(x,thetamax) for x in xplot])\n",
    "plt.plot(xplot,fitplot, 'r')\n",
    "plt.show"
   ]
  }
 ],
 "metadata": {
  "kernelspec": {
   "display_name": "Python 3.7.10 ('physics718')",
   "language": "python",
   "name": "python3"
  },
  "language_info": {
   "codemirror_mode": {
    "name": "ipython",
    "version": 3
   },
   "file_extension": ".py",
   "mimetype": "text/x-python",
   "name": "python",
   "nbconvert_exporter": "python",
   "pygments_lexer": "ipython3",
   "version": "3.7.10"
  },
  "orig_nbformat": 4,
  "vscode": {
   "interpreter": {
    "hash": "a9d38f14802b49e215393a98a75d52520d2bc4bac003d5f91eed5842b65bacb9"
   }
  }
 },
 "nbformat": 4,
 "nbformat_minor": 2
}
