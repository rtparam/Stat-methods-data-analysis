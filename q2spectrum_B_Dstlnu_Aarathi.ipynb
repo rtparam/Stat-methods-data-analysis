{
 "cells": [
  {
   "cell_type": "markdown",
   "id": "cf0c2c76",
   "metadata": {},
   "source": [
    "# A Measurement of the $q^{2}$ distribution of $ B \\rightarrow D^{*}\\ell \\nu$ decays\n",
    "\n"
   ]
  },
  {
   "cell_type": "markdown",
   "id": "60dc02f7",
   "metadata": {},
   "source": [
    "# Task 1: A first binned likelihood fit "
   ]
  },
  {
   "cell_type": "code",
   "execution_count": 100,
   "id": "e1cb21cb",
   "metadata": {},
   "outputs": [],
   "source": [
    "import numpy as np\n",
    "import pandas as pd\n",
    "import json\n",
    "import matplotlib.pyplot as plt"
   ]
  },
  {
   "cell_type": "code",
   "execution_count": 101,
   "id": "a3fbf39a",
   "metadata": {},
   "outputs": [],
   "source": [
    "\n",
    "q2binning = np.linspace(-2.2,11.0,7)"
   ]
  },
  {
   "cell_type": "code",
   "execution_count": 102,
   "id": "858c75ae",
   "metadata": {},
   "outputs": [
    {
     "data": {
      "text/plain": [
       "array([-2.2000000e+00, -4.4408921e-16,  2.2000000e+00,  4.4000000e+00,\n",
       "        6.6000000e+00,  8.8000000e+00,  1.1000000e+01])"
      ]
     },
     "execution_count": 102,
     "metadata": {},
     "output_type": "execute_result"
    }
   ],
   "source": [
    "q2binning"
   ]
  },
  {
   "cell_type": "code",
   "execution_count": 103,
   "id": "a2bf538d",
   "metadata": {},
   "outputs": [],
   "source": [
    "# Load mm2 binning\n",
    "with open('DstProject_mm2_bins.json') as f:\n",
    "    mm2binning = json.load(f)"
   ]
  },
  {
   "cell_type": "code",
   "execution_count": 104,
   "id": "4e212816",
   "metadata": {},
   "outputs": [
    {
     "data": {
      "text/plain": [
       "{'q2_bin0': [-1.0,\n",
       "  -0.9,\n",
       "  -0.8,\n",
       "  -0.7,\n",
       "  -0.6,\n",
       "  -0.5,\n",
       "  -0.3999999999999999,\n",
       "  -0.29999999999999993,\n",
       "  -0.19999999999999996,\n",
       "  -0.09999999999999998,\n",
       "  0.0],\n",
       " 'q2_bin1': [-1.0,\n",
       "  -0.9,\n",
       "  -0.8,\n",
       "  -0.7,\n",
       "  -0.6,\n",
       "  -0.5,\n",
       "  -0.3999999999999999,\n",
       "  -0.29999999999999993,\n",
       "  -0.19999999999999996,\n",
       "  -0.09999999999999998,\n",
       "  0.0,\n",
       "  0.10000000000000009,\n",
       "  0.20000000000000018,\n",
       "  0.30000000000000004,\n",
       "  0.40000000000000013,\n",
       "  0.5,\n",
       "  0.6000000000000001,\n",
       "  0.7000000000000002,\n",
       "  0.8,\n",
       "  0.9000000000000001,\n",
       "  1.0],\n",
       " 'q2_bin2': [-1.0,\n",
       "  -0.9,\n",
       "  -0.8,\n",
       "  -0.7,\n",
       "  -0.6,\n",
       "  -0.5,\n",
       "  -0.3999999999999999,\n",
       "  -0.29999999999999993,\n",
       "  -0.19999999999999996,\n",
       "  -0.09999999999999998,\n",
       "  0.0,\n",
       "  0.10000000000000009,\n",
       "  0.20000000000000018,\n",
       "  0.30000000000000004,\n",
       "  0.40000000000000013,\n",
       "  0.5,\n",
       "  0.6000000000000001,\n",
       "  0.7000000000000002,\n",
       "  0.8,\n",
       "  0.9000000000000001,\n",
       "  1.0,\n",
       "  1.1,\n",
       "  1.2000000000000002,\n",
       "  1.3000000000000003,\n",
       "  1.4000000000000004,\n",
       "  1.5,\n",
       "  1.6,\n",
       "  1.7000000000000002,\n",
       "  1.8000000000000003,\n",
       "  1.9000000000000004,\n",
       "  2.0],\n",
       " 'q2_bin3': [-1.0,\n",
       "  -0.9,\n",
       "  -0.8,\n",
       "  -0.7,\n",
       "  -0.6,\n",
       "  -0.5,\n",
       "  -0.3999999999999999,\n",
       "  -0.29999999999999993,\n",
       "  -0.19999999999999996,\n",
       "  -0.09999999999999998,\n",
       "  0.0,\n",
       "  0.10000000000000009,\n",
       "  0.20000000000000018,\n",
       "  0.30000000000000004,\n",
       "  0.40000000000000013,\n",
       "  0.5,\n",
       "  0.6000000000000001,\n",
       "  0.7000000000000002,\n",
       "  0.8,\n",
       "  0.9000000000000001,\n",
       "  1.0,\n",
       "  1.1,\n",
       "  1.2000000000000002,\n",
       "  1.3000000000000003,\n",
       "  1.4000000000000004,\n",
       "  1.5,\n",
       "  1.6,\n",
       "  1.7000000000000002,\n",
       "  1.8000000000000003,\n",
       "  1.9000000000000004,\n",
       "  2.0],\n",
       " 'q2_bin4': [-1.0,\n",
       "  -0.9,\n",
       "  -0.8,\n",
       "  -0.7,\n",
       "  -0.6,\n",
       "  -0.5,\n",
       "  -0.3999999999999999,\n",
       "  -0.29999999999999993,\n",
       "  -0.19999999999999996,\n",
       "  -0.09999999999999998,\n",
       "  0.0,\n",
       "  0.10000000000000009,\n",
       "  0.20000000000000018,\n",
       "  0.30000000000000004,\n",
       "  0.40000000000000013,\n",
       "  0.5,\n",
       "  0.6000000000000001,\n",
       "  0.7000000000000002,\n",
       "  0.8,\n",
       "  0.9000000000000001,\n",
       "  1.0,\n",
       "  1.1,\n",
       "  1.2000000000000002,\n",
       "  1.3000000000000003,\n",
       "  1.4000000000000004,\n",
       "  1.5,\n",
       "  1.6,\n",
       "  1.7000000000000002,\n",
       "  1.8000000000000003,\n",
       "  1.9000000000000004,\n",
       "  2.0],\n",
       " 'q2_bin5': [-1.0,\n",
       "  -0.9,\n",
       "  -0.8,\n",
       "  -0.7,\n",
       "  -0.6,\n",
       "  -0.5,\n",
       "  -0.3999999999999999,\n",
       "  -0.29999999999999993,\n",
       "  -0.19999999999999996,\n",
       "  -0.09999999999999998,\n",
       "  0.0,\n",
       "  0.10000000000000009,\n",
       "  0.20000000000000018,\n",
       "  0.30000000000000004,\n",
       "  0.40000000000000013,\n",
       "  0.5,\n",
       "  0.6000000000000001,\n",
       "  0.7000000000000002,\n",
       "  0.8,\n",
       "  0.9000000000000001,\n",
       "  1.0,\n",
       "  1.1,\n",
       "  1.2000000000000002,\n",
       "  1.3000000000000003,\n",
       "  1.4000000000000004,\n",
       "  1.5,\n",
       "  1.6,\n",
       "  1.7000000000000002,\n",
       "  1.8000000000000003,\n",
       "  1.9000000000000004,\n",
       "  2.0]}"
      ]
     },
     "execution_count": 104,
     "metadata": {},
     "output_type": "execute_result"
    }
   ],
   "source": [
    "mm2binning"
   ]
  },
  {
   "cell_type": "code",
   "execution_count": 105,
   "id": "995ec1c9",
   "metadata": {},
   "outputs": [
    {
     "name": "stdout",
     "output_type": "stream",
     "text": [
      "dict_keys(['q2_bin0', 'q2_bin1', 'q2_bin2', 'q2_bin3', 'q2_bin4', 'q2_bin5'])\n"
     ]
    }
   ],
   "source": [
    "# inspect keys of dictionary\n",
    "print(mm2binning.keys())"
   ]
  },
  {
   "cell_type": "code",
   "execution_count": 106,
   "id": "d635c4c8",
   "metadata": {},
   "outputs": [],
   "source": [
    "# Load signal normalized histograms\n",
    "with open('DstProject_normalized_signal_histograms.json') as f:\n",
    "    signal_histograms = json.load(f)"
   ]
  },
  {
   "cell_type": "code",
   "execution_count": 107,
   "id": "eb566fed",
   "metadata": {},
   "outputs": [
    {
     "data": {
      "text/plain": [
       "{'q2_bin0': [0.03804347826086957,\n",
       "  0.043478260869565216,\n",
       "  0.04891304347826087,\n",
       "  0.07608695652173914,\n",
       "  0.08695652173913043,\n",
       "  0.13043478260869565,\n",
       "  0.16847826086956522,\n",
       "  0.16847826086956522,\n",
       "  0.125,\n",
       "  0.11413043478260869],\n",
       " 'q2_bin1': [0.006329113924050633,\n",
       "  0.011507479861910242,\n",
       "  0.013233601841196778,\n",
       "  0.0189873417721519,\n",
       "  0.019562715765247412,\n",
       "  0.029344073647871116,\n",
       "  0.04602991944764097,\n",
       "  0.05811277330264672,\n",
       "  0.10529344073647871,\n",
       "  0.24108170310701957,\n",
       "  0.28308400460299193,\n",
       "  0.08803222094361335,\n",
       "  0.04027617951668585,\n",
       "  0.01668584579976985,\n",
       "  0.011507479861910242,\n",
       "  0.005753739930955121,\n",
       "  0.0011507479861910242,\n",
       "  0.0028768699654775605,\n",
       "  0.0005753739930955121,\n",
       "  0.0005753739930955121],\n",
       " 'q2_bin2': [0.00461133069828722,\n",
       "  0.004940711462450593,\n",
       "  0.008234519104084322,\n",
       "  0.01383399209486166,\n",
       "  0.021409749670619236,\n",
       "  0.030961791831357048,\n",
       "  0.04380764163372859,\n",
       "  0.06686429512516469,\n",
       "  0.08234519104084322,\n",
       "  0.20586297760210803,\n",
       "  0.23847167325428195,\n",
       "  0.09650856389986824,\n",
       "  0.06258234519104085,\n",
       "  0.04216073781291173,\n",
       "  0.026021080368906456,\n",
       "  0.015810276679841896,\n",
       "  0.008563899868247694,\n",
       "  0.009881422924901186,\n",
       "  0.005599472990777339,\n",
       "  0.0029644268774703555,\n",
       "  0.0036231884057971015,\n",
       "  0.0016469038208168643,\n",
       "  0.0009881422924901185,\n",
       "  0.0013175230566534915,\n",
       "  0.00032938076416337287,\n",
       "  0.00032938076416337287,\n",
       "  0.0,\n",
       "  0.00032938076416337287,\n",
       "  0.0,\n",
       "  0.0],\n",
       " 'q2_bin3': [0.0059771309771309775,\n",
       "  0.009615384615384616,\n",
       "  0.012214137214137215,\n",
       "  0.016112266112266113,\n",
       "  0.02001039501039501,\n",
       "  0.02468814968814969,\n",
       "  0.04235966735966736,\n",
       "  0.059511434511434515,\n",
       "  0.0854989604989605,\n",
       "  0.17125779625779625,\n",
       "  0.19516632016632016,\n",
       "  0.09901247401247401,\n",
       "  0.061850311850311854,\n",
       "  0.04443866943866944,\n",
       "  0.032744282744282746,\n",
       "  0.02754677754677755,\n",
       "  0.02001039501039501,\n",
       "  0.016372141372141373,\n",
       "  0.016632016632016633,\n",
       "  0.010135135135135136,\n",
       "  0.007536382536382537,\n",
       "  0.005197505197505198,\n",
       "  0.006237006237006237,\n",
       "  0.0033783783783783786,\n",
       "  0.0018191268191268192,\n",
       "  0.002338877338877339,\n",
       "  0.0012993762993762994,\n",
       "  0.0002598752598752599,\n",
       "  0.0005197505197505198,\n",
       "  0.0002598752598752599],\n",
       " 'q2_bin4': [0.008544921875,\n",
       "  0.01123046875,\n",
       "  0.014892578125,\n",
       "  0.0185546875,\n",
       "  0.0234375,\n",
       "  0.03369140625,\n",
       "  0.04052734375,\n",
       "  0.060302734375,\n",
       "  0.0849609375,\n",
       "  0.145751953125,\n",
       "  0.14697265625,\n",
       "  0.097900390625,\n",
       "  0.062744140625,\n",
       "  0.048583984375,\n",
       "  0.039306640625,\n",
       "  0.03125,\n",
       "  0.02685546875,\n",
       "  0.020263671875,\n",
       "  0.0234375,\n",
       "  0.00927734375,\n",
       "  0.01171875,\n",
       "  0.011474609375,\n",
       "  0.007080078125,\n",
       "  0.0048828125,\n",
       "  0.005126953125,\n",
       "  0.00439453125,\n",
       "  0.002685546875,\n",
       "  0.00244140625,\n",
       "  0.00048828125,\n",
       "  0.001220703125],\n",
       " 'q2_bin5': [0.009538152610441768,\n",
       "  0.012048192771084338,\n",
       "  0.017570281124497992,\n",
       "  0.01706827309236948,\n",
       "  0.03413654618473896,\n",
       "  0.03263052208835342,\n",
       "  0.04116465863453815,\n",
       "  0.06877510040160642,\n",
       "  0.0893574297188755,\n",
       "  0.11696787148594377,\n",
       "  0.14056224899598393,\n",
       "  0.08483935742971888,\n",
       "  0.06626506024096386,\n",
       "  0.05471887550200803,\n",
       "  0.03765060240963856,\n",
       "  0.033634538152610444,\n",
       "  0.02610441767068273,\n",
       "  0.025602409638554216,\n",
       "  0.017570281124497992,\n",
       "  0.015562248995983935,\n",
       "  0.010040160642570281,\n",
       "  0.010040160642570281,\n",
       "  0.007028112449799197,\n",
       "  0.0050200803212851405,\n",
       "  0.005522088353413655,\n",
       "  0.006526104417670682,\n",
       "  0.0035140562248995983,\n",
       "  0.004016064257028112,\n",
       "  0.004016064257028112,\n",
       "  0.0025100401606425703]}"
      ]
     },
     "execution_count": 107,
     "metadata": {},
     "output_type": "execute_result"
    }
   ],
   "source": [
    "signal_histograms"
   ]
  },
  {
   "cell_type": "code",
   "execution_count": 108,
   "id": "f1530a9c",
   "metadata": {},
   "outputs": [],
   "source": [
    "\n",
    "with open('DstProject_normalized_background_histograms.json') as f:\n",
    "    background_histograms = json.load(f)"
   ]
  },
  {
   "cell_type": "code",
   "execution_count": 109,
   "id": "a2482157",
   "metadata": {},
   "outputs": [
    {
     "data": {
      "text/plain": [
       "{'q2_bin0': [0.05694760820045558,\n",
       "  0.05011389521640091,\n",
       "  0.09339407744874716,\n",
       "  0.0979498861047836,\n",
       "  0.10933940774487472,\n",
       "  0.14350797266514806,\n",
       "  0.12072892938496584,\n",
       "  0.10478359908883828,\n",
       "  0.1275626423690205,\n",
       "  0.09567198177676538],\n",
       " 'q2_bin1': [0.013010053222945003,\n",
       "  0.021289178001182733,\n",
       "  0.026611472501478415,\n",
       "  0.03548196333530455,\n",
       "  0.04021289178001183,\n",
       "  0.03903015966883501,\n",
       "  0.04553518628030751,\n",
       "  0.06209343583678297,\n",
       "  0.07273802483737433,\n",
       "  0.11117681845062094,\n",
       "  0.10348905972797161,\n",
       "  0.1023063276167948,\n",
       "  0.0892962743938498,\n",
       "  0.07273802483737433,\n",
       "  0.05322294500295683,\n",
       "  0.04671791839148433,\n",
       "  0.028385570668243643,\n",
       "  0.01655824955647546,\n",
       "  0.011827321111768185,\n",
       "  0.00827912477823773],\n",
       " 'q2_bin2': [0.010248324793062672,\n",
       "  0.014189988175009854,\n",
       "  0.015372487189594008,\n",
       "  0.01931415057154119,\n",
       "  0.017737485218762318,\n",
       "  0.02798581001182499,\n",
       "  0.035474970437524636,\n",
       "  0.03783996846669294,\n",
       "  0.04020496649586126,\n",
       "  0.03665746945210879,\n",
       "  0.04178163184864012,\n",
       "  0.051241623965313364,\n",
       "  0.061884115096570755,\n",
       "  0.05873078439101301,\n",
       "  0.06976744186046512,\n",
       "  0.06227828143476547,\n",
       "  0.052424122979897514,\n",
       "  0.06267244777296019,\n",
       "  0.052424122979897514,\n",
       "  0.04532912889239259,\n",
       "  0.04454079621600315,\n",
       "  0.03508080409932992,\n",
       "  0.029956641702798582,\n",
       "  0.0260149783208514,\n",
       "  0.022861647615293655,\n",
       "  0.013795821836815136,\n",
       "  0.005912495072920773,\n",
       "  0.005518328734726055,\n",
       "  0.0011824990145841545,\n",
       "  0.0015766653527788726],\n",
       " 'q2_bin3': [0.009278350515463918,\n",
       "  0.012714776632302405,\n",
       "  0.016151202749140895,\n",
       "  0.015807560137457044,\n",
       "  0.015807560137457044,\n",
       "  0.01993127147766323,\n",
       "  0.022336769759450172,\n",
       "  0.028178694158075602,\n",
       "  0.021305841924398626,\n",
       "  0.02542955326460481,\n",
       "  0.03333333333333333,\n",
       "  0.03470790378006873,\n",
       "  0.050515463917525774,\n",
       "  0.05429553264604811,\n",
       "  0.050515463917525774,\n",
       "  0.05567010309278351,\n",
       "  0.04742268041237113,\n",
       "  0.06288659793814433,\n",
       "  0.055326460481099654,\n",
       "  0.0570446735395189,\n",
       "  0.047079037800687284,\n",
       "  0.0443298969072165,\n",
       "  0.037800687285223365,\n",
       "  0.044673539518900345,\n",
       "  0.03608247422680412,\n",
       "  0.030240549828178694,\n",
       "  0.022336769759450172,\n",
       "  0.018900343642611683,\n",
       "  0.016151202749140895,\n",
       "  0.013745704467353952],\n",
       " 'q2_bin4': [0.008156606851549755,\n",
       "  0.008482871125611746,\n",
       "  0.011419249592169658,\n",
       "  0.01598694942903752,\n",
       "  0.014029363784665579,\n",
       "  0.020554649265905382,\n",
       "  0.020228384991843394,\n",
       "  0.017618270799347472,\n",
       "  0.019249592169657423,\n",
       "  0.028058727569331157,\n",
       "  0.027406199021207178,\n",
       "  0.037194127243066887,\n",
       "  0.03360522022838499,\n",
       "  0.04241435562805873,\n",
       "  0.039804241435562805,\n",
       "  0.04698205546492659,\n",
       "  0.05089722675367047,\n",
       "  0.04176182707993475,\n",
       "  0.05644371941272431,\n",
       "  0.04861337683523654,\n",
       "  0.052202283849918436,\n",
       "  0.04567699836867863,\n",
       "  0.04959216965742251,\n",
       "  0.04306688417618271,\n",
       "  0.04241435562805873,\n",
       "  0.03947797716150082,\n",
       "  0.03817292006525286,\n",
       "  0.03099510603588907,\n",
       "  0.03425774877650897,\n",
       "  0.035236541598694944],\n",
       " 'q2_bin5': [0.006257110352673493,\n",
       "  0.00739476678043231,\n",
       "  0.004550625711035267,\n",
       "  0.015358361774744027,\n",
       "  0.012514220705346985,\n",
       "  0.011376564277588168,\n",
       "  0.016496018202502846,\n",
       "  0.01422070534698521,\n",
       "  0.01422070534698521,\n",
       "  0.02502844141069397,\n",
       "  0.024459613196814563,\n",
       "  0.02502844141069397,\n",
       "  0.04152445961319681,\n",
       "  0.03640500568828214,\n",
       "  0.03128555176336746,\n",
       "  0.04379977246871445,\n",
       "  0.04323094425483504,\n",
       "  0.048919226393629126,\n",
       "  0.04664391353811149,\n",
       "  0.04607508532423208,\n",
       "  0.0540386803185438,\n",
       "  0.04948805460750853,\n",
       "  0.05233219567690557,\n",
       "  0.04607508532423208,\n",
       "  0.04550625711035267,\n",
       "  0.05005688282138794,\n",
       "  0.04664391353811149,\n",
       "  0.05460750853242321,\n",
       "  0.04152445961319681,\n",
       "  0.044937428896473265]}"
      ]
     },
     "execution_count": 109,
     "metadata": {},
     "output_type": "execute_result"
    }
   ],
   "source": [
    "background_histograms"
   ]
  },
  {
   "cell_type": "code",
   "execution_count": 110,
   "id": "c5dc58e5",
   "metadata": {},
   "outputs": [],
   "source": [
    "\n",
    "with open('DstProject_data.json') as f:\n",
    "    data = json.load(f)"
   ]
  },
  {
   "cell_type": "code",
   "execution_count": 111,
   "id": "51bfb571",
   "metadata": {},
   "outputs": [
    {
     "data": {
      "text/plain": [
       "{'q2_bin0': [29.0, 30.0, 44.0, 59.0, 70.0, 97.0, 82.0, 104.0, 77.0, 79.0],\n",
       " 'q2_bin1': [34.0,\n",
       "  50.0,\n",
       "  54.0,\n",
       "  90.0,\n",
       "  84.0,\n",
       "  115.0,\n",
       "  159.0,\n",
       "  191.0,\n",
       "  292.0,\n",
       "  554.0,\n",
       "  674.0,\n",
       "  321.0,\n",
       "  225.0,\n",
       "  130.0,\n",
       "  115.0,\n",
       "  98.0,\n",
       "  50.0,\n",
       "  30.0,\n",
       "  26.0,\n",
       "  12.0],\n",
       " 'q2_bin2': [44.0,\n",
       "  60.0,\n",
       "  62.0,\n",
       "  94.0,\n",
       "  112.0,\n",
       "  145.0,\n",
       "  251.0,\n",
       "  311.0,\n",
       "  347.0,\n",
       "  705.0,\n",
       "  861.0,\n",
       "  415.0,\n",
       "  340.0,\n",
       "  274.0,\n",
       "  273.0,\n",
       "  203.0,\n",
       "  169.0,\n",
       "  174.0,\n",
       "  130.0,\n",
       "  129.0,\n",
       "  145.0,\n",
       "  82.0,\n",
       "  73.0,\n",
       "  70.0,\n",
       "  60.0,\n",
       "  34.0,\n",
       "  13.0,\n",
       "  14.0,\n",
       "  7.0,\n",
       "  4.0],\n",
       " 'q2_bin3': [44.0,\n",
       "  71.0,\n",
       "  88.0,\n",
       "  117.0,\n",
       "  114.0,\n",
       "  144.0,\n",
       "  250.0,\n",
       "  285.0,\n",
       "  406.0,\n",
       "  722.0,\n",
       "  861.0,\n",
       "  537.0,\n",
       "  368.0,\n",
       "  331.0,\n",
       "  274.0,\n",
       "  266.0,\n",
       "  203.0,\n",
       "  210.0,\n",
       "  244.0,\n",
       "  220.0,\n",
       "  182.0,\n",
       "  135.0,\n",
       "  129.0,\n",
       "  142.0,\n",
       "  121.0,\n",
       "  92.0,\n",
       "  59.0,\n",
       "  58.0,\n",
       "  65.0,\n",
       "  45.0],\n",
       " 'q2_bin4': [53.0,\n",
       "  63.0,\n",
       "  106.0,\n",
       "  133.0,\n",
       "  149.0,\n",
       "  229.0,\n",
       "  230.0,\n",
       "  299.0,\n",
       "  420.0,\n",
       "  702.0,\n",
       "  715.0,\n",
       "  535.0,\n",
       "  350.0,\n",
       "  315.0,\n",
       "  276.0,\n",
       "  252.0,\n",
       "  242.0,\n",
       "  221.0,\n",
       "  262.0,\n",
       "  198.0,\n",
       "  210.0,\n",
       "  167.0,\n",
       "  179.0,\n",
       "  146.0,\n",
       "  150.0,\n",
       "  138.0,\n",
       "  118.0,\n",
       "  103.0,\n",
       "  101.0,\n",
       "  115.0],\n",
       " 'q2_bin5': [25.0,\n",
       "  28.0,\n",
       "  41.0,\n",
       "  52.0,\n",
       "  94.0,\n",
       "  92.0,\n",
       "  110.0,\n",
       "  146.0,\n",
       "  199.0,\n",
       "  245.0,\n",
       "  326.0,\n",
       "  232.0,\n",
       "  203.0,\n",
       "  169.0,\n",
       "  127.0,\n",
       "  157.0,\n",
       "  141.0,\n",
       "  114.0,\n",
       "  114.0,\n",
       "  113.0,\n",
       "  103.0,\n",
       "  92.0,\n",
       "  79.0,\n",
       "  92.0,\n",
       "  99.0,\n",
       "  84.0,\n",
       "  86.0,\n",
       "  103.0,\n",
       "  81.0,\n",
       "  73.0]}"
      ]
     },
     "execution_count": 111,
     "metadata": {},
     "output_type": "execute_result"
    }
   ],
   "source": [
    "data"
   ]
  },
  {
   "cell_type": "markdown",
   "id": "ae633f49",
   "metadata": {},
   "source": [
    "## Visualize Data\n",
    "\n",
    "Plot of the data and the signal and background components, assuming some number signal and background.\n",
    "\n",
    "The goal of this project is to extract Nsig and Nbkg by performing a binned log likelihood fit assuming poisson statistics"
   ]
  },
  {
   "cell_type": "code",
   "execution_count": 112,
   "id": "569bf841",
   "metadata": {},
   "outputs": [],
   "source": [
    "def plot(Nsig, Nbkg, q2bin='q2_bin1'):\n",
    "    \n",
    "    hsig = np.array(signal_histograms[q2bin])\n",
    "    hbkg = np.array(background_histograms[q2bin])\n",
    "    ndata = np.array(data[q2bin])\n",
    "    bin_edges = np.array(mm2binning[q2bin])\n",
    "    bin_centres = (bin_edges[:-1] + bin_edges[1:])/2\n",
    "    \n",
    "    \n",
    "    plt.errorbar(bin_centres, ndata, np.sqrt(ndata),\n",
    "             fmt='o', color='black', capthick=1)\n",
    "\n",
    "    \n",
    "    plt.hist(bin_centres, weights= Nsig*hsig + Nbkg*hbkg,\n",
    "    bins=bin_edges,\n",
    "    edgecolor=\"black\",\n",
    "    histtype=\"stepfilled\",\n",
    "    lw=0.5,\n",
    "    color='lightblue',\n",
    "    stacked=True,\n",
    "    label = 'Signal'\n",
    "    )\n",
    "\n",
    "    plt.hist(bin_centres, weights= Nbkg*hbkg ,\n",
    "    bins=bin_edges,\n",
    "    edgecolor=\"black\",\n",
    "    histtype=\"stepfilled\",\n",
    "    lw=0.5,\n",
    "    color='darkblue',\n",
    "    stacked=True,\n",
    "    label = 'Background'\n",
    "    )\n",
    "\n",
    "    plt.xlabel('Missing Mass Squared')\n",
    "    plt.ylabel('Number of events')\n",
    "    plt.legend()\n",
    "    plt.savefig(f'MM2_plot_{q2bin}.pdf')\n",
    "\n",
    "    plt.show()"
   ]
  },
  {
   "cell_type": "code",
   "execution_count": 113,
   "id": "fa71aa18",
   "metadata": {},
   "outputs": [
    {
     "data": {
      "image/png": "[encoded data removed]",
      "text/plain": [
       "<Figure size 432x288 with 1 Axes>"
      ]
     },
     "metadata": {
      "needs_background": "light"
     },
     "output_type": "display_data"
    }
   ],
   "source": [
    "plot(Nsig= 600,Nbkg=400,q2bin='q2_bin0')"
   ]
  },
  {
   "cell_type": "code",
   "execution_count": 114,
   "id": "e9c48d43",
   "metadata": {},
   "outputs": [
    {
     "data": {
      "image/png": "[encoded data removed]",
      "text/plain": [
       "<Figure size 432x288 with 1 Axes>"
      ]
     },
     "metadata": {
      "needs_background": "light"
     },
     "output_type": "display_data"
    }
   ],
   "source": [
    "plot(Nsig= 4000,Nbkg=400,q2bin='q2_bin1')"
   ]
  },
  {
   "cell_type": "markdown",
   "id": "cb3c5b23",
   "metadata": {},
   "source": [
    "## Implementing the log likelihood fit\n",
    "\n",
    "First task is to implement a binned maximum likelihood fit in the variable missing mass squared to determine the amount of signal, $N^{\\rm sig}$, and background, $N^{\\rm bkg}$, for a given $q^{2}$ bin, q2_bin2.\n",
    "\n",
    "Assuming poisson statistics the binned likelihood function is given by:\n",
    "\n",
    "\n",
    "\\begin{align}\n",
    "\\mathcal{L} &= \\prod_{i} {\\rm poisson( n^{\\rm data}_{i}| \\lambda_{i} = n^{\\rm exp}_{i} )} \\\\\n",
    "\\mathcal{L} &= \\prod_{i} \\frac{ \\lambda_{i}^{n^{\\rm data}_{i}}\\exp(-\\lambda_{i})}{n^{\\rm data}_{i}!} \\\\\n",
    "\\end{align}\n",
    "\n",
    "Here $i$ is an index over bins. Meanwhile, the number of data events observed in bin $i$ of missing mass squared is $n^{\\rm data}_{i}$ and the expected number of events is $n^{\\rm exp}_{i}$. \n",
    "\n",
    "Assuming that data is made up by signal ($B \\rightarrow D^{*} \\ell \\nu$ decays) and background. Therefore,  \n",
    "\\begin{equation}\n",
    "n^{\\rm exp}_{i} = N^{\\rm sig} \\times h^{\\rm sig}_{i} +  N^{\\rm bkg} \\times h^{\\rm bkg}_{i}\n",
    "\\end{equation}\n",
    "\n",
    "where again, $N^{\\rm sig}$ and $N^{\\rm bkg}$ are the amount of signal and background in the given $q^{2}$ bin. These are parameters to be determined. \n",
    "Meanwhile, $ h^{\\rm sig}_{i}$ and $ h^{\\rm bkg}_{i}$ are normalized histograms for signal and background shapes. \n",
    "\n"
   ]
  },
  {
   "cell_type": "markdown",
   "id": "79c263f1",
   "metadata": {},
   "source": [
    "## Task 1 \n",
    "\n",
    "\n"
   ]
  },
  {
   "cell_type": "code",
   "execution_count": 115,
   "id": "cb0e0a09",
   "metadata": {},
   "outputs": [],
   "source": [
    "q2bin = \"q2_bin2\"\n",
    "hsig = np.array(signal_histograms[q2bin])\n",
    "hbkg = np.array(background_histograms[q2bin])"
   ]
  },
  {
   "cell_type": "code",
   "execution_count": 116,
   "id": "ac9b7928",
   "metadata": {},
   "outputs": [
    {
     "data": {
      "image/png": "[encoded data removed]",
      "text/plain": [
       "<Figure size 432x288 with 1 Axes>"
      ]
     },
     "metadata": {
      "needs_background": "light"
     },
     "output_type": "display_data"
    }
   ],
   "source": [
    "hsig_norm = hsig / np.sum(hsig)\n",
    "hbkg_norm = hbkg / np.sum(hbkg)\n",
    "bin_edges = np.array(mm2binning[q2bin])\n",
    "bin_centres = (bin_edges[:-1] + bin_edges[1:])/2\n",
    "\n",
    "plt.hist(bin_centres, bins=bin_edges, weights=hsig_norm, label='Signal', \n",
    "        edgecolor=\"black\",\n",
    "        histtype=\"stepfilled\",\n",
    "        lw=0.5,\n",
    "        color='lightblue',\n",
    "        stacked=True,\n",
    "        )\n",
    "plt.hist(bin_centres, bins=bin_edges, weights=hbkg_norm, label='Background',\n",
    "        edgecolor=\"black\",\n",
    "        histtype=\"stepfilled\",\n",
    "        lw=0.5,\n",
    "        color='darkblue',\n",
    "        stacked=True,\n",
    "        )   \n",
    "plt.xlabel('Missing Mass Squared')\n",
    "plt.ylabel('Normalized Number of Events')\n",
    "plt.legend()\n",
    "plt.show()"
   ]
  },
  {
   "cell_type": "code",
   "execution_count": 117,
   "id": "3e3c32e5",
   "metadata": {},
   "outputs": [],
   "source": [
    "from iminuit import Minuit\n",
    "\n",
    "q2bin = \"q2_bin2\"\n",
    "hsig = np.array(signal_histograms[q2bin])\n",
    "hbkg = np.array(background_histograms[q2bin])\n",
    "ndata =np.array( data[q2bin])\n",
    "\n",
    "\n",
    "def NLL(Nsig, Nbkg):\n",
    "    nexp = Nsig * hsig + Nbkg * hbkg\n",
    "    log_likelihood = np.sum(ndata * np.log(nexp) - nexp)\n",
    "    NLL = -log_likelihood\n",
    "\n",
    "    return NLL\n",
    "\n",
    "NLL.errordef = Minuit.LIKELIHOOD"
   ]
  },
  {
   "cell_type": "code",
   "execution_count": 118,
   "id": "32ddfad4",
   "metadata": {},
   "outputs": [
    {
     "data": {
      "text/html": [
       "<table>\n",
       "    <tr>\n",
       "        <th colspan=\"5\" style=\"text-align:center\" title=\"Minimizer\"> Migrad </th>\n",
       "    </tr>\n",
       "    <tr>\n",
       "        <td colspan=\"2\" style=\"text-align:left\" title=\"Minimum value of function\"> FCN = -2.618e+04 </td>\n",
       "        <td colspan=\"3\" style=\"text-align:center\" title=\"Total number of function and (optional) gradient evaluations\"> Nfcn = 87 </td>\n",
       "    </tr>\n",
       "    <tr>\n",
       "        <td colspan=\"2\" style=\"text-align:left\" title=\"Estimated distance to minimum and goal\"> EDM = 3.53e-05 (Goal: 0.0001) </td>\n",
       "        <td colspan=\"3\" style=\"text-align:center\" title=\"Total run time of algorithms\">  </td>\n",
       "    </tr>\n",
       "    <tr>\n",
       "        <td colspan=\"2\" style=\"text-align:center;background-color:#92CCA6;color:black\"> Valid Minimum </td>\n",
       "        <td colspan=\"3\" style=\"text-align:center;background-color:#92CCA6;color:black\"> No Parameters at limit </td>\n",
       "    </tr>\n",
       "    <tr>\n",
       "        <td colspan=\"2\" style=\"text-align:center;background-color:#92CCA6;color:black\"> Below EDM threshold (goal x 10) </td>\n",
       "        <td colspan=\"3\" style=\"text-align:center;background-color:#92CCA6;color:black\"> Below call limit </td>\n",
       "    </tr>\n",
       "    <tr>\n",
       "        <td style=\"text-align:center;background-color:#92CCA6;color:black\"> Covariance </td>\n",
       "        <td style=\"text-align:center;background-color:#92CCA6;color:black\"> Hesse ok </td>\n",
       "        <td style=\"text-align:center;background-color:#92CCA6;color:black\" title=\"Is covariance matrix accurate?\"> Accurate </td>\n",
       "        <td style=\"text-align:center;background-color:#92CCA6;color:black\" title=\"Is covariance matrix positive definite?\"> Pos. def. </td>\n",
       "        <td style=\"text-align:center;background-color:#92CCA6;color:black\" title=\"Was positive definiteness enforced by Minuit?\"> Not forced </td>\n",
       "    </tr>\n",
       "</table><table>\n",
       "    <tr>\n",
       "        <td></td>\n",
       "        <th title=\"Variable name\"> Name </th>\n",
       "        <th title=\"Value of parameter\"> Value </th>\n",
       "        <th title=\"Hesse error\"> Hesse Error </th>\n",
       "        <th title=\"Minos lower error\"> Minos Error- </th>\n",
       "        <th title=\"Minos upper error\"> Minos Error+ </th>\n",
       "        <th title=\"Lower limit of the parameter\"> Limit- </th>\n",
       "        <th title=\"Upper limit of the parameter\"> Limit+ </th>\n",
       "        <th title=\"Is the parameter fixed in the fit\"> Fixed </th>\n",
       "    </tr>\n",
       "    <tr>\n",
       "        <th> 0 </th>\n",
       "        <td> Nsig </td>\n",
       "        <td> 3.08e3 </td>\n",
       "        <td> 0.08e3 </td>\n",
       "        <td> -0.08e3 </td>\n",
       "        <td> 0.08e3 </td>\n",
       "        <td>  </td>\n",
       "        <td>  </td>\n",
       "        <td>  </td>\n",
       "    </tr>\n",
       "    <tr>\n",
       "        <th> 1 </th>\n",
       "        <td> Nbkg </td>\n",
       "        <td> 2.52e3 </td>\n",
       "        <td> 0.07e3 </td>\n",
       "        <td> -0.07e3 </td>\n",
       "        <td> 0.07e3 </td>\n",
       "        <td>  </td>\n",
       "        <td>  </td>\n",
       "        <td>  </td>\n",
       "    </tr>\n",
       "</table><table>\n",
       "    <tr>\n",
       "        <td></td>\n",
       "        <th colspan=\"2\" style=\"text-align:center\" title=\"Parameter name\"> Nsig </th>\n",
       "        <th colspan=\"2\" style=\"text-align:center\" title=\"Parameter name\"> Nbkg </th>\n",
       "    </tr>\n",
       "    <tr>\n",
       "        <th title=\"Lower and upper minos error of the parameter\"> Error </th>\n",
       "        <td> -80 </td>\n",
       "        <td> 80 </td>\n",
       "        <td> -70 </td>\n",
       "        <td> 70 </td>\n",
       "    </tr>\n",
       "    <tr>\n",
       "        <th title=\"Validity of lower/upper minos error\"> Valid </th>\n",
       "        <td style=\"background-color:#92CCA6;color:black\"> True </td>\n",
       "        <td style=\"background-color:#92CCA6;color:black\"> True </td>\n",
       "        <td style=\"background-color:#92CCA6;color:black\"> True </td>\n",
       "        <td style=\"background-color:#92CCA6;color:black\"> True </td>\n",
       "    </tr>\n",
       "    <tr>\n",
       "        <th title=\"Did scan hit limit of any parameter?\"> At Limit </th>\n",
       "        <td style=\"background-color:#92CCA6;color:black\"> False </td>\n",
       "        <td style=\"background-color:#92CCA6;color:black\"> False </td>\n",
       "        <td style=\"background-color:#92CCA6;color:black\"> False </td>\n",
       "        <td style=\"background-color:#92CCA6;color:black\"> False </td>\n",
       "    </tr>\n",
       "    <tr>\n",
       "        <th title=\"Did scan hit function call limit?\"> Max FCN </th>\n",
       "        <td style=\"background-color:#92CCA6;color:black\"> False </td>\n",
       "        <td style=\"background-color:#92CCA6;color:black\"> False </td>\n",
       "        <td style=\"background-color:#92CCA6;color:black\"> False </td>\n",
       "        <td style=\"background-color:#92CCA6;color:black\"> False </td>\n",
       "    </tr>\n",
       "    <tr>\n",
       "        <th title=\"New minimum found when doing scan?\"> New Min </th>\n",
       "        <td style=\"background-color:#92CCA6;color:black\"> False </td>\n",
       "        <td style=\"background-color:#92CCA6;color:black\"> False </td>\n",
       "        <td style=\"background-color:#92CCA6;color:black\"> False </td>\n",
       "        <td style=\"background-color:#92CCA6;color:black\"> False </td>\n",
       "    </tr>\n",
       "</table><table>\n",
       "    <tr>\n",
       "        <td></td>\n",
       "        <th> Nsig </th>\n",
       "        <th> Nbkg </th>\n",
       "    </tr>\n",
       "    <tr>\n",
       "        <th> Nsig </th>\n",
       "        <td> 5.85e+03 </td>\n",
       "        <td style=\"background-color:rgb(185,185,250);color:black\"> -2.77e+03 <strong>(-0.498)</strong> </td>\n",
       "    </tr>\n",
       "    <tr>\n",
       "        <th> Nbkg </th>\n",
       "        <td style=\"background-color:rgb(185,185,250);color:black\"> -2.77e+03 <strong>(-0.498)</strong> </td>\n",
       "        <td> 5.3e+03 </td>\n",
       "    </tr>\n",
       "</table>"
      ],
      "text/plain": [
       "┌─────────────────────────────────────────────────────────────────────────┐\n",
       "│                                Migrad                                   │\n",
       "├──────────────────────────────────┬──────────────────────────────────────┤\n",
       "│ FCN = -2.618e+04                 │              Nfcn = 87               │\n",
       "│ EDM = 3.53e-05 (Goal: 0.0001)    │                                      │\n",
       "├──────────────────────────────────┼──────────────────────────────────────┤\n",
       "│          Valid Minimum           │        No Parameters at limit        │\n",
       "├──────────────────────────────────┼──────────────────────────────────────┤\n",
       "│ Below EDM threshold (goal x 10)  │           Below call limit           │\n",
       "├───────────────┬──────────────────┼───────────┬─────────────┬────────────┤\n",
       "│  Covariance   │     Hesse ok     │ Accurate  │  Pos. def.  │ Not forced │\n",
       "└───────────────┴──────────────────┴───────────┴─────────────┴────────────┘\n",
       "┌───┬──────┬───────────┬───────────┬────────────┬────────────┬─────────┬─────────┬───────┐\n",
       "│   │ Name │   Value   │ Hesse Err │ Minos Err- │ Minos Err+ │ Limit-  │ Limit+  │ Fixed │\n",
       "├───┼──────┼───────────┼───────────┼────────────┼────────────┼─────────┼─────────┼───────┤\n",
       "│ 0 │ Nsig │  3.08e3   │  0.08e3   │  -0.08e3   │   0.08e3   │         │         │       │\n",
       "│ 1 │ Nbkg │  2.52e3   │  0.07e3   │  -0.07e3   │   0.07e3   │         │         │       │\n",
       "└───┴──────┴───────────┴───────────┴────────────┴────────────┴─────────┴─────────┴───────┘\n",
       "┌──────────┬───────────────────────┬───────────────────────┐\n",
       "│          │         Nsig          │         Nbkg          │\n",
       "├──────────┼───────────┬───────────┼───────────┬───────────┤\n",
       "│  Error   │    -80    │    80     │    -70    │    70     │\n",
       "│  Valid   │   True    │   True    │   True    │   True    │\n",
       "│ At Limit │   False   │   False   │   False   │   False   │\n",
       "│ Max FCN  │   False   │   False   │   False   │   False   │\n",
       "│ New Min  │   False   │   False   │   False   │   False   │\n",
       "└──────────┴───────────┴───────────┴───────────┴───────────┘\n",
       "┌──────┬─────────────────────┐\n",
       "│      │      Nsig      Nbkg │\n",
       "├──────┼─────────────────────┤\n",
       "│ Nsig │  5.85e+03 -2.77e+03 │\n",
       "│ Nbkg │ -2.77e+03   5.3e+03 │\n",
       "└──────┴─────────────────────┘"
      ]
     },
     "execution_count": 118,
     "metadata": {},
     "output_type": "execute_result"
    }
   ],
   "source": [
    "\n",
    "m = Minuit(NLL, Nsig=np.sum(ndata)/2, Nbkg=np.sum(ndata)/2)\n",
    "\n",
    "\n",
    "m.migrad()\n",
    "m.hesse()  \n",
    "m.minos()"
   ]
  },
  {
   "cell_type": "code",
   "execution_count": 119,
   "id": "6bfbed61",
   "metadata": {},
   "outputs": [],
   "source": [
    "\n",
    "Nsig = m.params['Nsig'].value\n",
    "Nsig_error = m.params['Nsig'].error\n",
    "\n",
    "Nbkg = m.params['Nbkg'].value\n",
    "Nbkg_error = m.params['Nbkg'].error"
   ]
  },
  {
   "cell_type": "code",
   "execution_count": 120,
   "id": "eb095232",
   "metadata": {},
   "outputs": [
    {
     "data": {
      "text/plain": [
       "3076.5546025845815"
      ]
     },
     "execution_count": 120,
     "metadata": {},
     "output_type": "execute_result"
    }
   ],
   "source": [
    "Nsig"
   ]
  },
  {
   "cell_type": "code",
   "execution_count": 121,
   "id": "1eedf170",
   "metadata": {},
   "outputs": [
    {
     "data": {
      "text/plain": [
       "2524.5286012709616"
      ]
     },
     "execution_count": 121,
     "metadata": {},
     "output_type": "execute_result"
    }
   ],
   "source": [
    "Nbkg"
   ]
  },
  {
   "cell_type": "code",
   "execution_count": 122,
   "id": "6af5e143",
   "metadata": {},
   "outputs": [
    {
     "data": {
      "image/png": "[encoded data removed]",
      "text/plain": [
       "<Figure size 432x288 with 1 Axes>"
      ]
     },
     "metadata": {
      "needs_background": "light"
     },
     "output_type": "display_data"
    }
   ],
   "source": [
    "\n",
    "plot(Nsig= Nsig,Nbkg=Nbkg,q2bin=q2bin)"
   ]
  },
  {
   "cell_type": "code",
   "execution_count": 143,
   "id": "c3a7d3b9",
   "metadata": {},
   "outputs": [],
   "source": [
    "\n",
    "from scipy.stats import chi2\n",
    "\n",
    "q2bin = \"q2_bin2\"\n",
    "hsig = np.array(signal_histograms[q2bin])\n",
    "hbkg = np.array(background_histograms[q2bin])\n",
    "ndata = np.array(data[q2bin])\n",
    "\n",
    "fsig = Nsig * hsig / np.sum(hsig)\n",
    "fbkg = Nbkg * hbkg / np.sum(hbkg)\n",
    "\n",
    "exp = fsig + fbkg\n",
    "\n",
    "unc = np.sqrt(ndata)\n",
    "\n",
    "chi2_value = np.sum((ndata - exp)**2 /unc**2)"
   ]
  },
  {
   "cell_type": "code",
   "execution_count": 124,
   "id": "8bc30277",
   "metadata": {},
   "outputs": [
    {
     "name": "stdout",
     "output_type": "stream",
     "text": [
      "0.6764392359842712\n"
     ]
    }
   ],
   "source": [
    "\n",
    "dof = len(ndata) -2\n",
    "\n",
    "pvalue = 1 - chi2.cdf(chi2_value, dof)\n",
    "print(pvalue)"
   ]
  },
  {
   "cell_type": "code",
   "execution_count": 125,
   "id": "be0b4eac",
   "metadata": {},
   "outputs": [
    {
     "data": {
      "text/plain": [
       "28"
      ]
     },
     "execution_count": 125,
     "metadata": {},
     "output_type": "execute_result"
    }
   ],
   "source": [
    "dof\n"
   ]
  },
  {
   "cell_type": "markdown",
   "id": "f73e76dc",
   "metadata": {},
   "source": [
    "# Task 2 Determining the $q^{2}$ spectrum of $B \\rightarrow D^{*} \\ell \\nu$ decays\n",
    "\n",
    "\n",
    "Performing the fits for all 6 $q^{2}$ bins and storing the fit yields for $B \\rightarrow D^{*} \\ell \\nu$ signal and the uncertainty on this yield as numpy arrays. \n",
    "Then plotting fitted signal yields and their uncertainties in bins of $q^{2}$. Also included the simulated histogram for reconstructed $q^{2}$, which is obtained by histograming events in the file q2_true_and_reco.csv"
   ]
  },
  {
   "cell_type": "code",
   "execution_count": 126,
   "id": "d307db69",
   "metadata": {},
   "outputs": [],
   "source": [
    "\n",
    "from iminuit import Minuit\n",
    "\n",
    "Nsig_vals = np.zeros(6)\n",
    "Nsig_errs = np.zeros(6)\n",
    "\n",
    "for i in range(6):\n",
    "    q2bin = \"q2_bin\" + str(i)\n",
    "\n",
    "    hsig = np.array(signal_histograms[q2bin])\n",
    "    hbkg = np.array(background_histograms[q2bin])\n",
    "    ndata = np.array(data[q2bin])\n",
    "\n",
    "    def NLL(Nsig, Nbkg):\n",
    "        nexp = Nsig * hsig + Nbkg * hbkg\n",
    "        log_likelihood = np.sum(ndata * np.log(nexp) - nexp)\n",
    "        NLL = -log_likelihood\n",
    "        return NLL\n",
    "    \n",
    "    NLL.errordef = Minuit.LIKELIHOOD\n",
    "\n",
    "    Nsig_init = np.sum(ndata)/2\n",
    "    Nbkg_init = np.sum(ndata)/2\n",
    "\n",
    "    m = Minuit(NLL, Nsig=Nsig_init, Nbkg=Nbkg_init)\n",
    "\n",
    "    m.migrad()\n",
    "    m.hesse()\n",
    "\n",
    "    Nsig_vals[i] = m.params['Nsig'].value\n",
    "    Nsig_errs[i] = m.params['Nsig'].error"
   ]
  },
  {
   "cell_type": "code",
   "execution_count": 127,
   "id": "6b97e94e",
   "metadata": {},
   "outputs": [],
   "source": [
    "\n",
    "q2binning = np.linspace(-2.2,11.0,7)\n",
    "df = pd.read_csv('q2_true_and_reco.csv')[['qSquaredTrue','qSquaredReco']]\n",
    "\n",
    "hreco, _ = np.histogram(df.qSquaredReco , bins=q2binning)"
   ]
  },
  {
   "cell_type": "code",
   "execution_count": 128,
   "id": "46f92dec",
   "metadata": {},
   "outputs": [
    {
     "data": {
      "image/png": "[encoded data removed]",
      "text/plain": [
       "<Figure size 720x432 with 1 Axes>"
      ]
     },
     "metadata": {
      "needs_background": "light"
     },
     "output_type": "display_data"
    }
   ],
   "source": [
    "\n",
    "\n",
    "q2_centers = (q2binning[1:] + q2binning[:-1]) / 2\n",
    "\n",
    "fig, ax = plt.subplots(figsize=(10,6))\n",
    "\n",
    "ax.hist(df.qSquaredReco, bins=q2binning, color='darkblue',   label='Reconstructed $q^2$')\n",
    "\n",
    "ax.errorbar(q2_centers, Nsig_vals, yerr=Nsig_errs, color='black', fmt='o', capthick = 1, label='Signal Yield')\n",
    "\n",
    "ax.set_xlabel('$q^2$ [GeV$^2$]', fontsize=16)\n",
    "ax.set_ylabel('Events', fontsize=16)\n",
    "ax.legend(fontsize = 14)\n",
    "\n",
    "plt.show()\n"
   ]
  },
  {
   "cell_type": "code",
   "execution_count": 129,
   "id": "972a9efe",
   "metadata": {},
   "outputs": [
    {
     "data": {
      "text/plain": [
       "array([ 382.64183348, 1668.45602725, 3076.55460258, 3897.30589876,\n",
       "       4246.27029769, 1983.35654887])"
      ]
     },
     "execution_count": 129,
     "metadata": {},
     "output_type": "execute_result"
    }
   ],
   "source": [
    "Nsig_vals"
   ]
  },
  {
   "cell_type": "code",
   "execution_count": 130,
   "id": "e1bc724f",
   "metadata": {},
   "outputs": [
    {
     "name": "stdout",
     "output_type": "stream",
     "text": [
      "┌──────┬─────────────────────┐\n",
      "│      │      Nsig      Nbkg │\n",
      "├──────┼─────────────────────┤\n",
      "│ Nsig │  3.67e+03 -1.69e+03 │\n",
      "│ Nbkg │ -1.69e+03  3.32e+03 │\n",
      "└──────┴─────────────────────┘\n"
     ]
    }
   ],
   "source": [
    "\n",
    "print(m.covariance)"
   ]
  },
  {
   "cell_type": "markdown",
   "id": "86069600",
   "metadata": {},
   "source": [
    "# Task 3: Unfolding the spectrum\n",
    "\n",
    "In reality the measured $q^{2}$ spectrum is the reconstructed $q^{2}$ spectrum not the true $q^{2}$ spectrum. Reconstructed $q^{2}$ is not perfect due to detector resolution and reconstruction effects. Correcting for this by unfolding the reconstructed spectrum.\n",
    "\n",
    "## Task 3 i) Visualize reconstructed and true $q^{2}$ \n",
    "\n",
    "Using the signal, $B \\rightarrow D^{*} \\ell \\nu$ events to determine the migration matrix"
   ]
  },
  {
   "cell_type": "code",
   "execution_count": 131,
   "id": "587b34d7",
   "metadata": {},
   "outputs": [],
   "source": [
    "\n",
    "q2binning = np.linspace(-2.2,11.0,7)\n",
    "df = pd.read_csv('q2_true_and_reco.csv')[['qSquaredTrue','qSquaredReco']]"
   ]
  },
  {
   "cell_type": "markdown",
   "id": "cb785f13",
   "metadata": {},
   "source": [
    "i) Plotting the distributions of true and reconstructed $q^{2}$ values. "
   ]
  },
  {
   "cell_type": "code",
   "execution_count": 145,
   "id": "47ae1e74",
   "metadata": {},
   "outputs": [
    {
     "data": {
      "image/png": "[encoded data removed]",
      "text/plain": [
       "<Figure size 432x288 with 1 Axes>"
      ]
     },
     "metadata": {
      "needs_background": "light"
     },
     "output_type": "display_data"
    }
   ],
   "source": [
    "\n",
    "\n",
    "plt.hist(df['qSquaredReco'], bins=q2binning, histtype='step', color = 'darkblue', label='Reconstructed $q^2$')\n",
    "plt.hist(df['qSquaredTrue'], bins=q2binning, histtype='step', color = 'orange', label='True $q^2$')\n",
    "plt.xlabel('$q^2$ [GeV$^2$]')\n",
    "plt.ylabel('Events')\n",
    "plt.legend(loc = 'upper left')\n",
    "plt.show()"
   ]
  },
  {
   "cell_type": "markdown",
   "id": "e86fa4ae",
   "metadata": {},
   "source": [
    "## Task3 ii) Migration matrix\n",
    "\n",
    "ii) Plot the migration matrix, $M$ from the data in q2_true_and_reco.csv. This migration matrix, $M$, is used unfold your signal yields from Task 2. The matrix shows for events in given bins of $q^{2}_{true}$ the probability that the events will be in each of the reconstructed $q^{2}$ bins. "
   ]
  },
  {
   "cell_type": "code",
   "execution_count": 134,
   "id": "a9b97fb0",
   "metadata": {},
   "outputs": [],
   "source": [
    "K =np.histogram2d(df.qSquaredReco, df.qSquaredTrue, bins=(q2binning,q2binning[1:]))[0]"
   ]
  },
  {
   "cell_type": "code",
   "execution_count": 135,
   "id": "7639b3a2",
   "metadata": {},
   "outputs": [],
   "source": [
    "M = K / np.sum(K, axis=0,keepdims=True)"
   ]
  },
  {
   "cell_type": "code",
   "execution_count": 136,
   "id": "d1da6d06",
   "metadata": {},
   "outputs": [
    {
     "data": {
      "text/plain": [
       "<AxesSubplot:>"
      ]
     },
     "execution_count": 136,
     "metadata": {},
     "output_type": "execute_result"
    },
    {
     "data": {
      "image/png": "[encoded data removed]",
      "text/plain": [
       "<Figure size 432x288 with 2 Axes>"
      ]
     },
     "metadata": {
      "needs_background": "light"
     },
     "output_type": "display_data"
    }
   ],
   "source": [
    "import seaborn as sns\n",
    "recoticks = [ r'$-2.2 < q^{2}_{reco} < 0$',r'$0 < q^{2}_{reco} < 2.2$', r'$2.2 < q^{2}_{reco} < 4.4$',\n",
    "             r'$4.4 < q^{2}_{reco} < 6.6$',\n",
    "             r'$6.6 < q^{2}_{reco} < 8.8$',r'$8.8 < q^{2}_{reco} < 11$']\n",
    "trueticks = [ r'$0 < q^{2}_{true} < 2.2$', r'$2.2 < q^{2}_{true} < 4.4$', r'$4.4 < q^{2}_{true} < 6.6$',\n",
    "             r'$6.6 < q^{2}_{true} < 8.8$',r'$8.8 < q^{2}_{true} < 11$']\n",
    "sns.heatmap(np.flip(M,axis=0), annot=True, \n",
    "            fmt='.2%', cmap='Blues',\n",
    "           xticklabels=trueticks,yticklabels=recoticks[::-1])"
   ]
  },
  {
   "cell_type": "markdown",
   "id": "ceb5be2c",
   "metadata": {},
   "source": [
    "## Task 3 iii) Unfolding\n",
    "\n",
    "When unfolding the aim is to determine the true yields from reconstructed yields. Your task will be to implement a $\\chi^{2}$ based unfolding with the $\\chi^{2}$ is defined as\n",
    "\\begin{equation}\n",
    "\\chi^{2} =  ( M \\vec{N}^{true} - \\vec{N}^{reco})^{T} \\Sigma^{-1}  ( M \\vec{N}^{true} - \\vec{N}^{reco}) \\; , \n",
    "\\end{equation}\n",
    "where the migration matrix $M$ has dimensions (6,5), the reconstructed yields $\\vec{N}^{reco}$ have dimensions (6,1) and the true yields $\\vec{N}^{true}$ have dimensions (5,1).\n",
    "\n",
    "iii) Given the fitted signal yields in bins of $q^{2}$ from Task 2, $\\vec{N}^{reco}$, determine the true yields, $\\vec{N}^{true}$. To do this implement the $\\chi^{2}$ function in the notebook and use iminuit to minimize it. "
   ]
  },
  {
   "cell_type": "code",
   "execution_count": 137,
   "id": "f13f2261",
   "metadata": {},
   "outputs": [],
   "source": [
    "\n",
    "Nreco = np.histogram(df.qSquaredReco, bins=q2binning)[0]\n",
    "Nreco_errors = np.sqrt(Nreco)\n",
    "covariance_matrix = np.diag(Nreco_errors**2)\n",
    "invSigma = np.linalg.inv(covariance_matrix)\n"
   ]
  },
  {
   "cell_type": "code",
   "execution_count": 138,
   "id": "700008bb",
   "metadata": {},
   "outputs": [],
   "source": [
    "import iminuit\n",
    "\n",
    "def chi2(Ntrue):\n",
    "    chi2 = np.dot((np.dot(M, Ntrue) - Nreco), np.dot(invSigma, (np.dot(M, Ntrue) - Nreco).T))\n",
    "    return chi2\n"
   ]
  },
  {
   "cell_type": "code",
   "execution_count": 139,
   "id": "d3f742d7",
   "metadata": {},
   "outputs": [
    {
     "data": {
      "text/html": [
       "<table>\n",
       "    <tr>\n",
       "        <th colspan=\"5\" style=\"text-align:center\" title=\"Minimizer\"> Migrad </th>\n",
       "    </tr>\n",
       "    <tr>\n",
       "        <td colspan=\"2\" style=\"text-align:left\" title=\"Minimum value of function\"> FCN = 6.74e-25 </td>\n",
       "        <td colspan=\"3\" style=\"text-align:center\" title=\"Total number of function and (optional) gradient evaluations\"> Nfcn = 112 </td>\n",
       "    </tr>\n",
       "    <tr>\n",
       "        <td colspan=\"2\" style=\"text-align:left\" title=\"Estimated distance to minimum and goal\"> EDM = 6.82e-25 (Goal: 0.0002) </td>\n",
       "        <td colspan=\"3\" style=\"text-align:center\" title=\"Total run time of algorithms\">  </td>\n",
       "    </tr>\n",
       "    <tr>\n",
       "        <td colspan=\"2\" style=\"text-align:center;background-color:#92CCA6;color:black\"> Valid Minimum </td>\n",
       "        <td colspan=\"3\" style=\"text-align:center;background-color:#92CCA6;color:black\"> No Parameters at limit </td>\n",
       "    </tr>\n",
       "    <tr>\n",
       "        <td colspan=\"2\" style=\"text-align:center;background-color:#92CCA6;color:black\"> Below EDM threshold (goal x 10) </td>\n",
       "        <td colspan=\"3\" style=\"text-align:center;background-color:#92CCA6;color:black\"> Below call limit </td>\n",
       "    </tr>\n",
       "    <tr>\n",
       "        <td style=\"text-align:center;background-color:#92CCA6;color:black\"> Covariance </td>\n",
       "        <td style=\"text-align:center;background-color:#92CCA6;color:black\"> Hesse ok </td>\n",
       "        <td style=\"text-align:center;background-color:#92CCA6;color:black\" title=\"Is covariance matrix accurate?\"> Accurate </td>\n",
       "        <td style=\"text-align:center;background-color:#92CCA6;color:black\" title=\"Is covariance matrix positive definite?\"> Pos. def. </td>\n",
       "        <td style=\"text-align:center;background-color:#92CCA6;color:black\" title=\"Was positive definiteness enforced by Minuit?\"> Not forced </td>\n",
       "    </tr>\n",
       "</table><table>\n",
       "    <tr>\n",
       "        <td></td>\n",
       "        <th title=\"Variable name\"> Name </th>\n",
       "        <th title=\"Value of parameter\"> Value </th>\n",
       "        <th title=\"Hesse error\"> Hesse Error </th>\n",
       "        <th title=\"Minos lower error\"> Minos Error- </th>\n",
       "        <th title=\"Minos upper error\"> Minos Error+ </th>\n",
       "        <th title=\"Lower limit of the parameter\"> Limit- </th>\n",
       "        <th title=\"Upper limit of the parameter\"> Limit+ </th>\n",
       "        <th title=\"Is the parameter fixed in the fit\"> Fixed </th>\n",
       "    </tr>\n",
       "    <tr>\n",
       "        <th> 0 </th>\n",
       "        <td> x0 </td>\n",
       "        <td> 2.22e3 </td>\n",
       "        <td> 0.06e3 </td>\n",
       "        <td>  </td>\n",
       "        <td>  </td>\n",
       "        <td>  </td>\n",
       "        <td>  </td>\n",
       "        <td>  </td>\n",
       "    </tr>\n",
       "    <tr>\n",
       "        <th> 1 </th>\n",
       "        <td> x1 </td>\n",
       "        <td> 3.46e3 </td>\n",
       "        <td> 0.09e3 </td>\n",
       "        <td>  </td>\n",
       "        <td>  </td>\n",
       "        <td>  </td>\n",
       "        <td>  </td>\n",
       "        <td>  </td>\n",
       "    </tr>\n",
       "    <tr>\n",
       "        <th> 2 </th>\n",
       "        <td> x2 </td>\n",
       "        <td> 3.98e3 </td>\n",
       "        <td> 0.10e3 </td>\n",
       "        <td>  </td>\n",
       "        <td>  </td>\n",
       "        <td>  </td>\n",
       "        <td>  </td>\n",
       "        <td>  </td>\n",
       "    </tr>\n",
       "    <tr>\n",
       "        <th> 3 </th>\n",
       "        <td> x3 </td>\n",
       "        <td> 3.66e3 </td>\n",
       "        <td> 0.09e3 </td>\n",
       "        <td>  </td>\n",
       "        <td>  </td>\n",
       "        <td>  </td>\n",
       "        <td>  </td>\n",
       "        <td>  </td>\n",
       "    </tr>\n",
       "    <tr>\n",
       "        <th> 4 </th>\n",
       "        <td> x4 </td>\n",
       "        <td> 1.58e3 </td>\n",
       "        <td> 0.05e3 </td>\n",
       "        <td>  </td>\n",
       "        <td>  </td>\n",
       "        <td>  </td>\n",
       "        <td>  </td>\n",
       "        <td>  </td>\n",
       "    </tr>\n",
       "</table><table>\n",
       "    <tr>\n",
       "        <td></td>\n",
       "        <th> x0 </th>\n",
       "        <th> x1 </th>\n",
       "        <th> x2 </th>\n",
       "        <th> x3 </th>\n",
       "        <th> x4 </th>\n",
       "    </tr>\n",
       "    <tr>\n",
       "        <th> x0 </th>\n",
       "        <td> 3.64e+03 </td>\n",
       "        <td style=\"background-color:rgb(211,211,250);color:black\"> -1.58e+03 <strong>(-0.299)</strong> </td>\n",
       "        <td style=\"background-color:rgb(250,245,245);color:black\"> 213 <strong>(0.036)</strong> </td>\n",
       "        <td style=\"background-color:rgb(248,248,250);color:black\"> -72.8 <strong>(-0.013)</strong> </td>\n",
       "        <td style=\"background-color:rgb(250,249,249);color:black\"> 12.1 <strong>(0.004)</strong> </td>\n",
       "    </tr>\n",
       "    <tr>\n",
       "        <th> x1 </th>\n",
       "        <td style=\"background-color:rgb(211,211,250);color:black\"> -1.58e+03 <strong>(-0.299)</strong> </td>\n",
       "        <td> 7.61e+03 </td>\n",
       "        <td style=\"background-color:rgb(206,206,250);color:black\"> -2.87e+03 <strong>(-0.339)</strong> </td>\n",
       "        <td style=\"background-color:rgb(250,243,243);color:black\"> 355 <strong>(0.045)</strong> </td>\n",
       "        <td style=\"background-color:rgb(248,248,250);color:black\"> -59.8 <strong>(-0.013)</strong> </td>\n",
       "    </tr>\n",
       "    <tr>\n",
       "        <th> x2 </th>\n",
       "        <td style=\"background-color:rgb(250,245,245);color:black\"> 213 <strong>(0.036)</strong> </td>\n",
       "        <td style=\"background-color:rgb(206,206,250);color:black\"> -2.87e+03 <strong>(-0.339)</strong> </td>\n",
       "        <td> 9.47e+03 </td>\n",
       "        <td style=\"background-color:rgb(204,204,250);color:black\"> -3.12e+03 <strong>(-0.357)</strong> </td>\n",
       "        <td style=\"background-color:rgb(250,242,242);color:black\"> 282 <strong>(0.054)</strong> </td>\n",
       "    </tr>\n",
       "    <tr>\n",
       "        <th> x3 </th>\n",
       "        <td style=\"background-color:rgb(248,248,250);color:black\"> -72.8 <strong>(-0.013)</strong> </td>\n",
       "        <td style=\"background-color:rgb(250,243,243);color:black\"> 355 <strong>(0.045)</strong> </td>\n",
       "        <td style=\"background-color:rgb(204,204,250);color:black\"> -3.12e+03 <strong>(-0.357)</strong> </td>\n",
       "        <td> 8.04e+03 </td>\n",
       "        <td style=\"background-color:rgb(208,208,250);color:black\"> -1.55e+03 <strong>(-0.321)</strong> </td>\n",
       "    </tr>\n",
       "    <tr>\n",
       "        <th> x4 </th>\n",
       "        <td style=\"background-color:rgb(250,249,249);color:black\"> 12.1 <strong>(0.004)</strong> </td>\n",
       "        <td style=\"background-color:rgb(248,248,250);color:black\"> -59.8 <strong>(-0.013)</strong> </td>\n",
       "        <td style=\"background-color:rgb(250,242,242);color:black\"> 282 <strong>(0.054)</strong> </td>\n",
       "        <td style=\"background-color:rgb(208,208,250);color:black\"> -1.55e+03 <strong>(-0.321)</strong> </td>\n",
       "        <td> 2.89e+03 </td>\n",
       "    </tr>\n",
       "</table>"
      ],
      "text/plain": [
       "┌─────────────────────────────────────────────────────────────────────────┐\n",
       "│                                Migrad                                   │\n",
       "├──────────────────────────────────┬──────────────────────────────────────┤\n",
       "│ FCN = 6.74e-25                   │              Nfcn = 112              │\n",
       "│ EDM = 6.82e-25 (Goal: 0.0002)    │                                      │\n",
       "├──────────────────────────────────┼──────────────────────────────────────┤\n",
       "│          Valid Minimum           │        No Parameters at limit        │\n",
       "├──────────────────────────────────┼──────────────────────────────────────┤\n",
       "│ Below EDM threshold (goal x 10)  │           Below call limit           │\n",
       "├───────────────┬──────────────────┼───────────┬─────────────┬────────────┤\n",
       "│  Covariance   │     Hesse ok     │ Accurate  │  Pos. def.  │ Not forced │\n",
       "└───────────────┴──────────────────┴───────────┴─────────────┴────────────┘\n",
       "┌───┬──────┬───────────┬───────────┬────────────┬────────────┬─────────┬─────────┬───────┐\n",
       "│   │ Name │   Value   │ Hesse Err │ Minos Err- │ Minos Err+ │ Limit-  │ Limit+  │ Fixed │\n",
       "├───┼──────┼───────────┼───────────┼────────────┼────────────┼─────────┼─────────┼───────┤\n",
       "│ 0 │ x0   │  2.22e3   │  0.06e3   │            │            │         │         │       │\n",
       "│ 1 │ x1   │  3.46e3   │  0.09e3   │            │            │         │         │       │\n",
       "│ 2 │ x2   │  3.98e3   │  0.10e3   │            │            │         │         │       │\n",
       "│ 3 │ x3   │  3.66e3   │  0.09e3   │            │            │         │         │       │\n",
       "│ 4 │ x4   │  1.58e3   │  0.05e3   │            │            │         │         │       │\n",
       "└───┴──────┴───────────┴───────────┴────────────┴────────────┴─────────┴─────────┴───────┘\n",
       "┌────┬───────────────────────────────────────────────────┐\n",
       "│    │        x0        x1        x2        x3        x4 │\n",
       "├────┼───────────────────────────────────────────────────┤\n",
       "│ x0 │  3.64e+03 -1.58e+03       213     -72.8      12.1 │\n",
       "│ x1 │ -1.58e+03  7.61e+03 -2.87e+03       355     -59.8 │\n",
       "│ x2 │       213 -2.87e+03  9.47e+03 -3.12e+03       282 │\n",
       "│ x3 │     -72.8       355 -3.12e+03  8.04e+03 -1.55e+03 │\n",
       "│ x4 │      12.1     -59.8       282 -1.55e+03  2.89e+03 │\n",
       "└────┴───────────────────────────────────────────────────┘"
      ]
     },
     "execution_count": 139,
     "metadata": {},
     "output_type": "execute_result"
    }
   ],
   "source": [
    "m = Minuit(chi2,(2000, 1200,2000,2000,1000))\n",
    "m.migrad()"
   ]
  },
  {
   "cell_type": "code",
   "execution_count": 146,
   "id": "755f0b25",
   "metadata": {},
   "outputs": [],
   "source": [
    "unfolded_values = [m.params[\"x0\"].value, m.params[\"x1\"].value, m.params[\"x2\"].value, m.params[\"x3\"].value, m.params[\"x4\"].value]\n",
    "unfolded_errors = [m.params[\"x0\"].error, m.params[\"x1\"].error, m.params[\"x2\"].error, m.params[\"x3\"].error, m.params[\"x4\"].error]"
   ]
  },
  {
   "cell_type": "code",
   "execution_count": 141,
   "id": "5f6adfbe",
   "metadata": {},
   "outputs": [],
   "source": [
    "unfolded_values_new = [0]+unfolded_values\n",
    "unfolded_errors_new = [0]+unfolded_errors"
   ]
  },
  {
   "cell_type": "markdown",
   "id": "5d9e2a1e",
   "metadata": {},
   "source": [
    "## Task 3 iv) Plot the unfolded spectrum\n",
    "\n",
    "iv) Plot the reconstructed and unfolded $q^{2}$ spectrums on the same plot together with the true $q^{2}$ distribution. Plot all binned distributions with error bars."
   ]
  },
  {
   "cell_type": "code",
   "execution_count": 142,
   "id": "04a20bbc",
   "metadata": {},
   "outputs": [
    {
     "data": {
      "image/png": "[encoded data removed]",
      "text/plain": [
       "<Figure size 720x432 with 1 Axes>"
      ]
     },
     "metadata": {
      "needs_background": "light"
     },
     "output_type": "display_data"
    }
   ],
   "source": [
    "q2_centers = (q2binning[1:] + q2binning[:-1]) / 2\n",
    "\n",
    "fig, ax = plt.subplots(figsize=(10,6))\n",
    "\n",
    "ax.hist(df.qSquaredTrue, bins=q2binning, color='darkblue',   label='True $q^2$')\n",
    "ax.errorbar(q2_centers, Nreco, yerr=Nreco_errors, color='black', fmt='o', capthick = 1, label='Reconstructed')\n",
    "ax.errorbar(q2_centers, unfolded_values_new, yerr = unfolded_errors_new, fmt = 'o', label = 'Unfolded')\n",
    "\n",
    "ax.set_xlabel('$q^2$ [GeV$^2$]', fontsize=16)\n",
    "ax.set_ylabel('Events', fontsize=16)\n",
    "ax.legend(fontsize = 14)\n",
    "\n",
    "plt.show()"
   ]
  }
 ],
 "metadata": {
  "kernelspec": {
   "display_name": "Python 3 (ipykernel)",
   "language": "python",
   "name": "python3"
  },
  "language_info": {
   "codemirror_mode": {
    "name": "ipython",
    "version": 3
   },
   "file_extension": ".py",
   "mimetype": "text/x-python",
   "name": "python",
   "nbconvert_exporter": "python",
   "pygments_lexer": "ipython3",
   "version": "3.10.2"
  }
 },
 "nbformat": 4,
 "nbformat_minor": 5
}
