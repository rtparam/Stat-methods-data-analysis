{
 "cells": [
  {
   "cell_type": "code",
   "execution_count": 1,
   "metadata": {},
   "outputs": [
    {
     "data": {
      "text/plain": [
       "<function matplotlib.pyplot.show(close=None, block=None)>"
      ]
     },
     "execution_count": 1,
     "metadata": {},
     "output_type": "execute_result"
    },
    {
     "data": {
      "image/png": "[encoded data removed]",
      "text/plain": [
       "<Figure size 432x288 with 1 Axes>"
      ]
     },
     "metadata": {
      "needs_background": "light"
     },
     "output_type": "display_data"
    }
   ],
   "source": [
    "\n",
    "import numpy as np\n",
    "from random import random\n",
    "import matplotlib.pyplot as plt\n",
    "import scipy.integrate as integrate\n",
    "from math import exp\n",
    "\n",
    "\n",
    "xi = np.array([0.01,0.03,0.07,0.24,0.41,0.413,0.46,0.47,0.505,0.507,0.534,0.55,0.58,0.63,0.65,\n",
    "0.701,0.723,0.731,0.737,0.743,0.751,0.76,0.763,0.773,0.775,0.781,0.787,0.789,0.792,\n",
    "    0.81,0.821,0.829,0.842,0.853,0.859,0.862,0.871,0.878,0.883,0.892,0.894,\n",
    "    0.901,0.903,0.914,0.917,0.9214,0.932,0.939,0.944,0.9542,0.956,0.958,0.966,0.971,0.981,0.982,0.987,0.991,0.993,0.998])\n",
    "yi_dummy = np.zeros_like(xi)\n",
    "fig,ax = plt.subplots()\n",
    "plt.scatter(xi,yi_dummy)\n",
    "plt.xlabel('unbinned x data')\n",
    "plt.ylabel('dummy dimension')\n",
    "plt.show"
   ]
  },
  {
   "cell_type": "code",
   "execution_count": 3,
   "metadata": {},
   "outputs": [],
   "source": [
    "def logL_explorer(loglike,maximum=True,xmin=0,xmax=1):\n",
    "    theta = np.linspace(xmin,xmax,20000)\n",
    "    logl = np.array([loglike(th) for th in theta])\n",
    "    if not maximum : logl = -logl\n",
    "    lmax = np.max(logl)\n",
    "    maxindex = np.argmax(logl)\n",
    "    thetamax = theta[maxindex]\n",
    "    print(\"maximum for logL=\",lmax,\"at theta\",thetamax)\n",
    "    l_onesig = lmax - 1/2\n",
    "    sigma_minus_index = np.searchsorted(logl[:maxindex], l_onesig)   \n",
    "    sigma_minus = thetamax-theta[sigma_minus_index]\n",
    "    sigma_plus_index  = np.searchsorted(np.flip(logl[maxindex:]), l_onesig)\n",
    "    theta_flipped = np.flip(theta[maxindex:])\n",
    "    sigma_plus =  theta_flipped[sigma_plus_index] - thetamax\n",
    "    print(\"theta =\", thetamax ,\"+\",sigma_plus,\"-\",sigma_minus)   \n",
    "    return thetamax,sigma_plus,sigma_minus"
   ]
  },
  {
   "cell_type": "code",
   "execution_count": 4,
   "metadata": {},
   "outputs": [
    {
     "name": "stdout",
     "output_type": "stream",
     "text": [
      "maximum for logL= 23.40237862224527 at theta 0.1409070453522676\n",
      "theta = 0.1409070453522676 + 0.0889044452222611 - 0.06565328266413321\n",
      "ok\n",
      "previously we fitted the same data binned (10 bins from 0-1) and obtained theta = 0.13480674033701684 + 0.08755437771888594 - 0.06425321266063302\n"
     ]
    },
    {
     "data": {
      "image/png": "[encoded data removed]",
      "text/plain": [
       "<Figure size 432x288 with 1 Axes>"
      ]
     },
     "metadata": {
      "needs_background": "light"
     },
     "output_type": "display_data"
    }
   ],
   "source": [
    "\n",
    "def rho1(x): return 1  # constant\n",
    "def rho2(x): return 3*x*x\n",
    "def rho(x,theta): \n",
    "    return theta*rho1(x)+(1-theta)*rho2(x)\n",
    "assert(abs(integrate.quad(rho1,0,1)[0]-1.)<1.e-5)\n",
    "assert(abs(integrate.quad(rho2,0,1)[0]-1.)<1.e-5)\n",
    "\n",
    "def negative_logL_unbinnedML(theta):\n",
    "    return -np.sum(np.log(rho(xi,theta)))  \n",
    "\n",
    "fig = plt.figure()\n",
    "\n",
    "ax = fig.add_subplot(1, 1, 1)\n",
    "plt.margins(x=0) #disable plotting margins on x axis\n",
    "thetaplot = np.linspace(0.,1.,500)\n",
    "logLplot = [ negative_logL_unbinnedML(theta) for theta in thetaplot]\n",
    "\n",
    "plt.plot(thetaplot,logLplot, 'b')\n",
    "plt.xlabel('theta')\n",
    "plt.ylabel('-Log L')\n",
    "plt.show\n",
    "fig.savefig(\"log_l_plot_poisson.pdf\")\n",
    "thetamax,sig1,sig2 = logL_explorer(negative_logL_unbinnedML,maximum=False,xmin=0,xmax=1)\n",
    "print(\"ok\")\n",
    "print(\"previously we fitted the same data binned (10 bins from 0-1) and obtained theta = 0.13480674033701684 + 0.08755437771888594 - 0.06425321266063302\")"
   ]
  },
  {
   "cell_type": "code",
   "execution_count": 6,
   "metadata": {},
   "outputs": [
    {
     "name": "stdout",
     "output_type": "stream",
     "text": [
      "now we compare binned data to unbinned ML fit results\n",
      "binned data, not used for fit [ 3  0  1  0  4  5  2 14 12 19]\n"
     ]
    },
    {
     "data": {
      "text/plain": [
       "<function matplotlib.pyplot.show(close=None, block=None)>"
      ]
     },
     "execution_count": 6,
     "metadata": {},
     "output_type": "execute_result"
    },
    {
     "data": {
      "image/png": "[encoded data removed]",
      "text/plain": [
       "<Figure size 432x288 with 1 Axes>"
      ]
     },
     "metadata": {
      "needs_background": "light"
     },
     "output_type": "display_data"
    }
   ],
   "source": [
    "print(\"now we compare binned data to unbinned ML fit results\")\n",
    "yi_binned = np.histogram(xi,bins=10,range=(0,1))[0]\n",
    "xi_binned = np.array([0.05,0.15,0.25,0.35,0.45,0.55,0.65,0.75,0.85,0.95])\n",
    "print(\"binned data, not used for fit\",yi_binned)\n",
    "fig, ax = plt.subplots()\n",
    "plt.errorbar(xi_binned,yi_binned,np.sqrt(yi_binned), fmt='o', color='blue')\n",
    "plt.xlabel('x')\n",
    "plt.ylabel('y(x)')\n",
    "xplot = np.linspace(0,1,500)\n",
    "S = len(xi)\n",
    "binwid = 0.1\n",
    "fitplot = np.array([S*binwid*rho(x,thetamax) for x in xplot])\n",
    "plt.plot(xplot,fitplot, 'r')\n",
    "plt.show"
   ]
  }
 ],
 "metadata": {
  "kernelspec": {
   "display_name": "Python 3.7.10 ('physics718')",
   "language": "python",
   "name": "python3"
  },
  "language_info": {
   "codemirror_mode": {
    "name": "ipython",
    "version": 3
   },
   "file_extension": ".py",
   "mimetype": "text/x-python",
   "name": "python",
   "nbconvert_exporter": "python",
   "pygments_lexer": "ipython3",
   "version": "3.10.2"
  },
  "orig_nbformat": 4,
  "vscode": {
   "interpreter": {
    "hash": "a9d38f14802b49e215393a98a75d52520d2bc4bac003d5f91eed5842b65bacb9"
   }
  }
 },
 "nbformat": 4,
 "nbformat_minor": 2
}
